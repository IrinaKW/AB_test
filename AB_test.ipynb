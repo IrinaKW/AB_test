{
 "cells": [
  {
   "cell_type": "code",
   "execution_count": 189,
   "metadata": {},
   "outputs": [],
   "source": [
    "# Importing packages\n",
    "import pandas as pd\n",
    "import matplotlib.pyplot as plt\n",
    "import numpy as np\n",
    "import statsmodels.stats.api as sms\n",
    "from math import ceil\n",
    "import scipy.stats as stats\n",
    "from scipy.stats import binom"
   ]
  },
  {
   "cell_type": "code",
   "execution_count": 190,
   "metadata": {},
   "outputs": [
    {
     "data": {
      "text/html": [
       "<div>\n",
       "<style scoped>\n",
       "    .dataframe tbody tr th:only-of-type {\n",
       "        vertical-align: middle;\n",
       "    }\n",
       "\n",
       "    .dataframe tbody tr th {\n",
       "        vertical-align: top;\n",
       "    }\n",
       "\n",
       "    .dataframe thead th {\n",
       "        text-align: right;\n",
       "    }\n",
       "</style>\n",
       "<table border=\"1\" class=\"dataframe\">\n",
       "  <thead>\n",
       "    <tr style=\"text-align: right;\">\n",
       "      <th></th>\n",
       "      <th>user_id</th>\n",
       "      <th>timestamp</th>\n",
       "      <th>group</th>\n",
       "      <th>landing_page</th>\n",
       "      <th>converted</th>\n",
       "    </tr>\n",
       "  </thead>\n",
       "  <tbody>\n",
       "    <tr>\n",
       "      <th>0</th>\n",
       "      <td>851104</td>\n",
       "      <td>2017-01-21 22:11:48.556739</td>\n",
       "      <td>control</td>\n",
       "      <td>old_page</td>\n",
       "      <td>0</td>\n",
       "    </tr>\n",
       "    <tr>\n",
       "      <th>1</th>\n",
       "      <td>804228</td>\n",
       "      <td>2017-01-12 08:01:45.159739</td>\n",
       "      <td>control</td>\n",
       "      <td>old_page</td>\n",
       "      <td>0</td>\n",
       "    </tr>\n",
       "    <tr>\n",
       "      <th>2</th>\n",
       "      <td>661590</td>\n",
       "      <td>2017-01-11 16:55:06.154213</td>\n",
       "      <td>treatment</td>\n",
       "      <td>new_page</td>\n",
       "      <td>0</td>\n",
       "    </tr>\n",
       "    <tr>\n",
       "      <th>3</th>\n",
       "      <td>853541</td>\n",
       "      <td>2017-01-08 18:28:03.143765</td>\n",
       "      <td>treatment</td>\n",
       "      <td>new_page</td>\n",
       "      <td>0</td>\n",
       "    </tr>\n",
       "    <tr>\n",
       "      <th>4</th>\n",
       "      <td>864975</td>\n",
       "      <td>2017-01-21 01:52:26.210827</td>\n",
       "      <td>control</td>\n",
       "      <td>old_page</td>\n",
       "      <td>1</td>\n",
       "    </tr>\n",
       "  </tbody>\n",
       "</table>\n",
       "</div>"
      ],
      "text/plain": [
       "   user_id                   timestamp      group landing_page  converted\n",
       "0   851104  2017-01-21 22:11:48.556739    control     old_page          0\n",
       "1   804228  2017-01-12 08:01:45.159739    control     old_page          0\n",
       "2   661590  2017-01-11 16:55:06.154213  treatment     new_page          0\n",
       "3   853541  2017-01-08 18:28:03.143765  treatment     new_page          0\n",
       "4   864975  2017-01-21 01:52:26.210827    control     old_page          1"
      ]
     },
     "execution_count": 190,
     "metadata": {},
     "output_type": "execute_result"
    }
   ],
   "source": [
    "# Reading in data\n",
    "df = pd.read_csv('https://github.com/erood/interviewqs.com_code_snippets/blob/master/Datasets/ab_data.csv?raw=true', parse_dates=True) \n",
    "df.head()"
   ]
  },
  {
   "cell_type": "code",
   "execution_count": 191,
   "metadata": {},
   "outputs": [
    {
     "name": "stdout",
     "output_type": "stream",
     "text": [
      "landing_page  new_page  old_page\n",
      "group                           \n",
      "control           1928    145274\n",
      "treatment       145311      1965\n",
      "\n",
      "There are 1965 misaligned treatment group data units and 1928 control group units\n"
     ]
    }
   ],
   "source": [
    "#The control group should always align with the old landing page, \n",
    "#and treatment group should always align with the new landing page. \n",
    "print(pd.crosstab(df['group'], df['landing_page']))\n",
    "v1= len(df[(df['landing_page']=='old_page') & (df['group']=='treatment')])\n",
    "v2= len(df[(df['landing_page']=='new_page') & (df['group']=='control')])\n",
    "print(f\"\\nThere are {v1} misaligned treatment group data units and {v2} control group units\")\n",
    "\n"
   ]
  },
  {
   "cell_type": "code",
   "execution_count": 192,
   "metadata": {},
   "outputs": [
    {
     "name": "stdout",
     "output_type": "stream",
     "text": [
      "We are going to drop 3893 data units\n",
      "There are now 0 misaligned treatment group data units and 0 control group units\n",
      "There are now 145311 subjects in treatment group and 145274 subjects in control group\n"
     ]
    }
   ],
   "source": [
    "#If these do not line up - we drop the rows\n",
    "\n",
    "print(f\"We are going to drop {v1+v2} data units\")\n",
    "\n",
    "df=df.loc[~((df['landing_page']=='new_page') & (df['group']=='control'))]\n",
    "df=df.loc[~((df['landing_page']=='old_page') & (df['group']=='treatment'))]\n",
    "\n",
    "v1= len(df[(df['landing_page']=='old_page') & (df['group']=='treatment')])\n",
    "v2= len(df[(df['landing_page']=='new_page') & (df['group']=='control')])\n",
    "print(f\"There are now {v1} misaligned treatment group data units and {v2} control group units\")\n",
    "\n",
    "t1= len(df[(df['landing_page']=='new_page') & (df['group']=='treatment')])\n",
    "c1= len(df[(df['landing_page']=='old_page') & (df['group']=='control')])\n",
    "print(f\"There are now {t1} subjects in treatment group and {c1} subjects in control group\")"
   ]
  },
  {
   "cell_type": "code",
   "execution_count": 193,
   "metadata": {},
   "outputs": [
    {
     "name": "stdout",
     "output_type": "stream",
     "text": [
      "There are 1 dublicates in the dataset\n"
     ]
    }
   ],
   "source": [
    "# Now we need to verify that no users has been recorded more than once:\n",
    "doubles_df=df['user_id'].value_counts(ascending=False)\n",
    "print(f\"There are {len(doubles_df[doubles_df>1])} dublicates in the dataset\")\n",
    "# As the number is not significant compare to the full dataset length, we are going to drop dublicates:\n",
    "df=df.drop_duplicates(subset=['user_id'])"
   ]
  },
  {
   "cell_type": "code",
   "execution_count": 194,
   "metadata": {},
   "outputs": [
    {
     "name": "stdout",
     "output_type": "stream",
     "text": [
      "landing_page  new_page  old_page\n",
      "group                           \n",
      "control              0    145274\n",
      "treatment       145310         0\n"
     ]
    }
   ],
   "source": [
    "print(pd.crosstab(df['group'], df['landing_page']))"
   ]
  },
  {
   "cell_type": "markdown",
   "metadata": {},
   "source": [
    "## Formulating a Hypothesis: \n",
    "\n",
    "<i>This will make sure our interpretation of the results is correct as well as rigorous.</i>\n",
    "\n",
    "The new page design has a higher conversion rate (the user is going through with the purchase).\n",
    "The assumption: we want to know if the new page \"converts\" more users: one-tailed hypothesis test.\n",
    "\n",
    "Hₒ: p = pₒ (same)\n",
    "Hₐ: p > pₒ (performs better)\n",
    "\n",
    "Confidence level of 95%: α = 0.05\n",
    "\n",
    "Independent variable: group\n",
    "Dependent variable: conversion\n",
    "\n",
    "Test metrics: z-test, power analysis to predict the error probability."
   ]
  },
  {
   "cell_type": "code",
   "execution_count": 195,
   "metadata": {},
   "outputs": [],
   "source": [
    "H0 = \"The new design doesn't determine success in the probability of users going with the sign-up.\"\n",
    "Ha = \"The new design determines success in the probability of users going with the sign-up.\"\n",
    "alpha = 0.05\n"
   ]
  },
  {
   "cell_type": "markdown",
   "metadata": {},
   "source": [
    "Calculating acceptable sample size for testing:\n",
    "* base conversion rate is assumed 0.1 (10%)\n",
    "* effect size is assumed 0.02 (2% increase)\n",
    "* power test set to 0.8 by convention\n",
    "* significance level (α) = 0.05 as set up earlier"
   ]
  },
  {
   "cell_type": "code",
   "execution_count": 196,
   "metadata": {},
   "outputs": [
    {
     "name": "stdout",
     "output_type": "stream",
     "text": [
      "3835\n"
     ]
    }
   ],
   "source": [
    "# Calculating effect size based on our expected rates\n",
    "effect_size = sms.proportion_effectsize(0.10, 0.12)    \n",
    "# Calculating sample size needed\n",
    "sample_size = ceil(sms.NormalIndPower().solve_power(\n",
    "    effect_size, \n",
    "    power=0.8, \n",
    "    alpha=alpha, \n",
    "    ratio=1\n",
    "    )                                               \n",
    "    )   \n",
    "                    \n",
    "print(sample_size)"
   ]
  },
  {
   "cell_type": "code",
   "execution_count": 197,
   "metadata": {},
   "outputs": [
    {
     "name": "stdout",
     "output_type": "stream",
     "text": [
      "           converted   total      rate\n",
      "group                                 \n",
      "control        17489  145274  0.120386\n",
      "treatment      17264  145310  0.118808\n",
      "\n",
      "Difference between rates is 0.0016\n"
     ]
    }
   ],
   "source": [
    "#Calculate conversion rates of both groups from population\n",
    "ab_summary = df.pivot_table(values='converted', index='group', aggfunc=np.sum)\n",
    "# add additional columns to the pivot table\n",
    "ab_summary['total'] = df.pivot_table(values='converted', index='group', aggfunc=lambda x: len(x))\n",
    "ab_summary['rate'] = df.pivot_table(values='converted', index='group')\n",
    "print(ab_summary)\n",
    "print(f\"\\nDifference between rates is {ab_summary['rate'][0]-ab_summary['rate'][1]:.4f}\")"
   ]
  },
  {
   "cell_type": "code",
   "execution_count": 198,
   "metadata": {},
   "outputs": [
    {
     "name": "stdout",
     "output_type": "stream",
     "text": [
      "           converted  total      rate\n",
      "group                                \n",
      "control          415   3835  0.108214\n",
      "treatment        473   3835  0.123338\n",
      "\n",
      "Difference between rates is -0.0106\n"
     ]
    }
   ],
   "source": [
    "#Calculate conversion rates of both groups from random sample of 3835\n",
    "control_sample = df[df['group'] == 'control'].sample(n=sample_size, random_state=10)\n",
    "treatment_sample = df[df['group'] == 'treatment'].sample(n=sample_size, random_state=10)\n",
    "\n",
    "df_sample = pd.concat([control_sample, treatment_sample], axis=0)\n",
    "df_sample.reset_index(drop=True, inplace=True)\n",
    "\n",
    "ab_rand_summary = df_sample.pivot_table(values='converted', index='group', aggfunc=np.sum)\n",
    "# add additional columns to the pivot table\n",
    "ab_rand_summary['total'] = df_sample.pivot_table(values='converted', index='group', aggfunc=lambda x: len(x))\n",
    "ab_rand_summary['rate'] = df_sample.pivot_table(values='converted', index='group')\n",
    "print(ab_rand_summary)\n",
    "print(f\"\\nDifference between rates is {ab_rand_summary['rate'][0]-ab_summary['rate'][1]:.4f}\")"
   ]
  },
  {
   "cell_type": "markdown",
   "metadata": {},
   "source": [
    "Observational Note:\n",
    "The conversion rates are very similar with treatment rate being lower than the control group.\n",
    "The toal count of conversions is higher for the treatment group.\n",
    "However, it is worth running the hypothesis test to verify the effectivness of the second page vs the old one."
   ]
  },
  {
   "cell_type": "code",
   "execution_count": 199,
   "metadata": {},
   "outputs": [
    {
     "name": "stdout",
     "output_type": "stream",
     "text": [
      "mean A & B:    0.10821    0.12334\n",
      "st dev A & B:  0.31069    0.32887\n",
      "total A & B:   3835       3835\n",
      "converted A & B: 415       473\n",
      "     group landing_page  converted   z_score\n",
      "0  control     old_page          0 -0.348301\n",
      "1  control     old_page          0 -0.348301\n",
      "2  control     old_page          0 -0.348301\n",
      "3  control     old_page          0 -0.348301\n",
      "4  control     old_page          0 -0.348301\n"
     ]
    }
   ],
   "source": [
    "#calculating basic statistics:\n",
    "mean_c=df_sample[df_sample['group']=='control']['converted'].mean()\n",
    "std_c=df_sample[df_sample['group']=='control']['converted'].std()\n",
    "count_c=df_sample[df_sample['group']=='control']['converted'].count()\n",
    "conv_c=df_sample[df_sample['group']=='control']['converted'].sum()\n",
    "\n",
    "mean_t=df_sample[df_sample['group']=='treatment']['converted'].mean()\n",
    "std_t=df_sample[df_sample['group']=='treatment']['converted'].std()\n",
    "count_t=df_sample[df_sample['group']=='treatment']['converted'].count()\n",
    "conv_t=df_sample[df_sample['group']=='treatment']['converted'].sum()\n",
    "\n",
    "#Z test: calculate expected frequencies & Z-scores\n",
    "from  scipy.stats import zscore\n",
    "df_sample=df_sample.iloc[:, 2:5]\n",
    "df_sample['z_score'] = df_sample.groupby('group')['converted'].transform(lambda x: zscore(x, ddof=1))\n",
    "\n",
    "print(\"mean A & B:   \", round(mean_c,5), \"  \", round(mean_t, 5))\n",
    "print(\"st dev A & B: \", round(std_c,5), \"  \", round(std_t,5))\n",
    "print(\"total A & B:  \", count_c, \"     \", count_t)\n",
    "print(\"converted A & B:\", conv_c, \"     \", conv_t)\n",
    "print(df_sample.head(5))"
   ]
  },
  {
   "cell_type": "code",
   "execution_count": 219,
   "metadata": {},
   "outputs": [
    {
     "data": {
      "text/plain": [
       "Text(0, 0.5, 'probability')"
      ]
     },
     "execution_count": 219,
     "metadata": {},
     "output_type": "execute_result"
    },
    {
     "data": {
      "image/png": "[encoded data removed]",
      "text/plain": [
       "<Figure size 640x480 with 1 Axes>"
      ]
     },
     "metadata": {},
     "output_type": "display_data"
    }
   ],
   "source": [
    "#Let's visualise the distribution of both groups:\n",
    "control_converted=df_sample[df_sample['group']=='control']['converted']\n",
    "treatment_converted=df_sample[df_sample['group']=='treatment']['converted'].reset_index(drop=True)\n",
    "df_plot = pd.DataFrame({\n",
    "    'control_converted': control_converted,\n",
    "    'treatment_converted': treatment_converted \n",
    "    })\n",
    "df_plot\n",
    "ax = df_plot.plot.kde(bw_method=0.7)\n",
    "plt.xlabel('converted')\n",
    "plt.ylabel('probability')"
   ]
  },
  {
   "cell_type": "code",
   "execution_count": 1,
   "metadata": {},
   "outputs": [
    {
     "ename": "ModuleNotFoundError",
     "evalue": "No module named 'matplotlib_venn'",
     "output_type": "error",
     "traceback": [
      "\u001b[0;31m---------------------------------------------------------------------------\u001b[0m",
      "\u001b[0;31mModuleNotFoundError\u001b[0m                       Traceback (most recent call last)",
      "Cell \u001b[0;32mIn[1], line 1\u001b[0m\n\u001b[0;32m----> 1\u001b[0m \u001b[39mfrom\u001b[39;00m \u001b[39mbioinfokit\u001b[39;00m\u001b[39m.\u001b[39;00m\u001b[39manalys\u001b[39;00m \u001b[39mimport\u001b[39;00m stat\n\u001b[1;32m      2\u001b[0m res\u001b[39m=\u001b[39mstat()\n\u001b[1;32m      3\u001b[0m res\u001b[39m.\u001b[39mztest(df\u001b[39m=\u001b[39mdf_plot, x\u001b[39m=\u001b[39m\u001b[39m'\u001b[39m\u001b[39mcontrol_converted\u001b[39m\u001b[39m'\u001b[39m, y\u001b[39m=\u001b[39m\u001b[39m'\u001b[39m\u001b[39mtreatment_converted\u001b[39m\u001b[39m'\u001b[39m, x_std\u001b[39m=\u001b[39mstd_c, y_std\u001b[39m=\u001b[39mstd_t, test_type\u001b[39m=\u001b[39m\u001b[39m2\u001b[39m)\n",
      "File \u001b[0;32m~/miniconda3/envs/cfgenv/lib/python3.11/site-packages/bioinfokit/analys.py:5\u001b[0m\n\u001b[1;32m      3\u001b[0m \u001b[39mimport\u001b[39;00m \u001b[39mos\u001b[39;00m\n\u001b[1;32m      4\u001b[0m \u001b[39mimport\u001b[39;00m \u001b[39mnumpy\u001b[39;00m \u001b[39mas\u001b[39;00m \u001b[39mnp\u001b[39;00m\n\u001b[0;32m----> 5\u001b[0m \u001b[39mfrom\u001b[39;00m \u001b[39mbioinfokit\u001b[39;00m\u001b[39m.\u001b[39;00m\u001b[39mvisuz\u001b[39;00m \u001b[39mimport\u001b[39;00m general\n\u001b[1;32m      6\u001b[0m \u001b[39mfrom\u001b[39;00m \u001b[39mbioinfokit\u001b[39;00m \u001b[39mimport\u001b[39;00m visuz\n\u001b[1;32m      7\u001b[0m \u001b[39mfrom\u001b[39;00m \u001b[39mitertools\u001b[39;00m \u001b[39mimport\u001b[39;00m groupby, chain\n",
      "File \u001b[0;32m~/miniconda3/envs/cfgenv/lib/python3.11/site-packages/bioinfokit/visuz.py:7\u001b[0m\n\u001b[1;32m      5\u001b[0m \u001b[39mimport\u001b[39;00m \u001b[39mmatplotlib\u001b[39;00m\u001b[39m.\u001b[39;00m\u001b[39mcm\u001b[39;00m \u001b[39mas\u001b[39;00m \u001b[39mcmc\u001b[39;00m\n\u001b[1;32m      6\u001b[0m \u001b[39mimport\u001b[39;00m \u001b[39mseaborn\u001b[39;00m \u001b[39mas\u001b[39;00m \u001b[39msns\u001b[39;00m\n\u001b[0;32m----> 7\u001b[0m \u001b[39mfrom\u001b[39;00m \u001b[39mmatplotlib_venn\u001b[39;00m \u001b[39mimport\u001b[39;00m venn3, venn2\n\u001b[1;32m      8\u001b[0m \u001b[39mfrom\u001b[39;00m \u001b[39mrandom\u001b[39;00m \u001b[39mimport\u001b[39;00m sample\n\u001b[1;32m      9\u001b[0m \u001b[39mfrom\u001b[39;00m \u001b[39mfunctools\u001b[39;00m \u001b[39mimport\u001b[39;00m reduce\n",
      "\u001b[0;31mModuleNotFoundError\u001b[0m: No module named 'matplotlib_venn'"
     ]
    }
   ],
   "source": [
    "from bioinfokit.analys import stat\n",
    "res=stat()\n",
    "res.ztest(df=df_plot, x='control_converted', y='treatment_converted', x_std=std_c, y_std=std_t, test_type=2)\n",
    "print(res.summary)"
   ]
  },
  {
   "cell_type": "markdown",
   "metadata": {},
   "source": [
    "Summary:\n",
    "\n",
    "According to the p-value of the Z-stat test, the Ho hypothesis should not be rejected.\n",
    "The new_page alternative is not effective enough to alter the conversion rate.\n"
   ]
  }
 ],
 "metadata": {
  "kernelspec": {
   "display_name": "cfgenv",
   "language": "python",
   "name": "python3"
  },
  "language_info": {
   "codemirror_mode": {
    "name": "ipython",
    "version": 3
   },
   "file_extension": ".py",
   "mimetype": "text/x-python",
   "name": "python",
   "nbconvert_exporter": "python",
   "pygments_lexer": "ipython3",
   "version": "3.11.2"
  },
  "orig_nbformat": 4
 },
 "nbformat": 4,
 "nbformat_minor": 2
}
